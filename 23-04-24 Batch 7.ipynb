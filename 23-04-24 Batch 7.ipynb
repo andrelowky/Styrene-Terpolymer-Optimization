{
 "cells": [
  {
   "cell_type": "code",
   "execution_count": 1,
   "id": "c4fab6e1",
   "metadata": {
    "ExecuteTime": {
     "end_time": "2023-01-16T13:24:21.625951Z",
     "start_time": "2023-01-16T13:24:19.599515Z"
    }
   },
   "outputs": [],
   "source": [
    "# basic dependencies\n",
    "\n",
    "import numpy as np\n",
    "from numpy import loadtxt\n",
    "from numpy import savetxt\n",
    "\n",
    "import pandas as pd\n",
    "import math\n",
    "import time\n",
    "from datetime import date\n",
    "\n",
    "np.set_printoptions(formatter={'float': lambda x: \"{0:0.3f}\".format(x)})\n",
    "\n",
    "###########\n",
    "\n",
    "# torch dependencies\n",
    "import torch\n",
    "\n",
    "tkwargs = {\"dtype\": torch.double, # set as double to minimize zero error for cholesky decomposition error\n",
    "           \"device\": torch.device(\"cuda:0\" if torch.cuda.is_available() else \"cpu\")} # set tensors to GPU, if multiple GPUs please set cuda:x properly\n",
    "\n",
    "torch.set_printoptions(precision=3)\n",
    "\n",
    "###########\n",
    "\n",
    "# botorch dependencies\n",
    "import botorch\n",
    "\n",
    "# data related\n",
    "from botorch.utils.sampling import draw_sobol_samples\n",
    "from botorch.utils.transforms import unnormalize, normalize\n",
    "\n",
    "# surrogate model specific\n",
    "from botorch.models.gp_regression import SingleTaskGP\n",
    "from botorch.models.model_list_gp_regression import ModelListGP\n",
    "from botorch.models.transforms.outcome import Standardize\n",
    "from gpytorch.mlls.sum_marginal_log_likelihood import SumMarginalLogLikelihood\n",
    "from botorch import fit_gpytorch_model\n",
    "\n",
    "# qNEHVI specific\n",
    "from botorch.acquisition.multi_objective.objective import IdentityMCMultiOutputObjective\n",
    "from botorch.acquisition.multi_objective.monte_carlo import qNoisyExpectedHypervolumeImprovement\n",
    "\n",
    "# utilities\n",
    "from botorch.optim.optimize import optimize_acqf\n",
    "from botorch.sampling import SobolQMCNormalSampler\n",
    "from botorch.utils.multi_objective.pareto import is_non_dominated\n",
    "from botorch.utils.multi_objective.hypervolume import Hypervolume\n",
    "from typing import Optional\n",
    "from torch import Tensor\n",
    "from botorch.exceptions import BadInitialCandidatesWarning\n",
    "\n",
    "from gpytorch.constraints import GreaterThan\n",
    "from torch.optim import SGD\n",
    "from gpytorch.mlls import ExactMarginalLogLikelihood\n",
    "\n",
    "import warnings\n",
    "\n",
    "warnings.filterwarnings('ignore', category=BadInitialCandidatesWarning)\n",
    "warnings.filterwarnings('ignore', category=RuntimeWarning)\n",
    "\n",
    "# plotting dependencies\n",
    "import matplotlib\n",
    "from matplotlib import pyplot as plt\n",
    "%matplotlib inline\n",
    "\n",
    "SMALL_SIZE = 14\n",
    "MEDIUM_SIZE = 18\n",
    "BIGGER_SIZE = 20\n",
    "\n",
    "plt.rc('axes', titlesize=SMALL_SIZE)     # fontsize of the axes title\n",
    "plt.rc('axes', labelsize=MEDIUM_SIZE)    # fontsize of the x and y labels\n",
    "plt.rc('xtick', labelsize=SMALL_SIZE)    # fontsize of the tick labels\n",
    "plt.rc('ytick', labelsize=SMALL_SIZE)    # fontsize of the tick labels\n",
    "plt.rc('legend', fontsize=SMALL_SIZE)    # legend fontsize\n",
    "plt.rc('figure', titlesize=BIGGER_SIZE)  # fontsize of the figure title"
   ]
  },
  {
   "cell_type": "code",
   "execution_count": 2,
   "id": "769dbb45",
   "metadata": {
    "ExecuteTime": {
     "end_time": "2023-01-16T13:24:21.655887Z",
     "start_time": "2023-01-16T13:24:21.632998Z"
    }
   },
   "outputs": [
    {
     "data": {
      "text/plain": [
       "array([[42.738, 20.028, 37.234, 78.202, 1.747, 464.793, 48.990, -6.730],\n",
       "       [35.410, 63.615, 0.975, 72.708, 4.089, 128.993, 25.616, -43.130],\n",
       "       [38.607, 31.172, 30.221, 66.877, 2.993, 91.991, 29.951, -17.330],\n",
       "       [70.546, 21.700, 7.754, 71.495, 0.604, 147.951, 64.000, 7.760],\n",
       "       [32.484, 47.606, 19.910, 62.353, 4.338, 268.694, 23.035, -32.220],\n",
       "       [2.183, 47.834, 49.983, 60.888, 0.193, 227.405, 0.921, -42.530],\n",
       "       [26.227, 3.214, 70.558, 73.616, 1.308, 298.860, 42.261, 12.760],\n",
       "       [46.493, 8.374, 45.133, 65.425, 3.356, 41.452, 58.352, 13.640],\n",
       "       [27.885, 56.712, 15.403, 69.485, 0.953, 351.240, 17.621, -38.710],\n",
       "       [27.256, 28.335, 44.409, 64.019, 2.528, 381.236, 19.403, -24.740],\n",
       "       [26.061, 39.625, 34.314, 78.693, 4.944, 438.393, 19.361, -30.650],\n",
       "       [7.099, 50.405, 42.496, 75.713, 2.373, 198.215, 4.816, -41.710],\n",
       "       [10.602, 33.869, 55.529, 69.391, 0.053, 82.476, 8.869, -32.170],\n",
       "       [35.819, 10.306, 53.875, 69.788, 4.931, 126.998, 50.063, 5.640],\n",
       "       [8.898, 79.669, 11.433, 62.630, 0.554, 103.767, 5.955, -48.030],\n",
       "       [11.478, 34.968, 53.554, 69.192, 0.184, 96.182, 10.118, -35.890],\n",
       "       [60.816, 29.070, 10.114, 62.441, 2.638, 93.777, 51.315, -7.840],\n",
       "       [46.298, 25.283, 28.419, 66.115, 1.398, 130.015, 40.527, -15.400],\n",
       "       [11.477, 34.967, 53.556, 69.192, 0.184, 96.174, 9.218, -35.010],\n",
       "       [25.455, 38.282, 36.263, 65.941, 1.802, 168.941, 18.169, -32.590],\n",
       "       [8.983, 51.059, 39.959, 65.312, 1.895, 146.409, 5.983, -44.990],\n",
       "       [29.069, 53.624, 17.307, 73.411, 1.579, 459.057, 21.215, -39.050],\n",
       "       [46.493, 8.374, 45.133, 65.425, 3.356, 41.452, 57.554, 5.610],\n",
       "       [33.333, 33.333, 33.333, 80.000, 0.010, 480.000, 25.008, -24.210],\n",
       "       [26.227, 3.214, 70.558, 73.616, 1.308, 298.860, 43.057, 9.140],\n",
       "       [46.493, 8.374, 45.133, 65.425, 3.356, 41.452, 55.905, 6.190],\n",
       "       [46.298, 25.283, 28.419, 66.115, 1.398, 130.015, 39.722, -19.350],\n",
       "       [18.123, 19.265, 62.612, 67.443, 4.816, 235.313, 19.930, -23.220],\n",
       "       [25.149, 39.371, 35.481, 76.595, 2.810, 275.527, 19.900, -38.830],\n",
       "       [10.863, 17.706, 71.431, 79.859, 4.181, 61.418, 13.920, -27.690],\n",
       "       [39.452, 13.792, 46.756, 78.890, 3.260, 67.171, 41.280, -2.680],\n",
       "       [53.270, 37.904, 8.826, 63.316, 2.444, 468.971, 44.868, -24.900],\n",
       "       [21.184, 41.811, 37.005, 79.143, 4.481, 101.179, 18.311, -31.850],\n",
       "       [45.921, 15.968, 38.111, 64.997, 0.171, 420.930, 41.885, -0.870],\n",
       "       [43.571, 31.198, 25.231, 63.118, 3.676, 413.214, 35.180, -19.540],\n",
       "       [16.446, 51.072, 32.482, 74.021, 1.338, 309.943, 10.453, -43.100],\n",
       "       [21.278, 56.854, 21.868, 61.232, 2.892, 427.656, 14.119, -40.510],\n",
       "       [24.109, 33.567, 42.323, 71.554, 4.369, 124.134, 20.942, -29.200],\n",
       "       [42.098, 34.196, 23.706, 79.782, 3.247, 253.718, 40.712, -23.450],\n",
       "       [48.137, 5.724, 46.139, 73.844, 3.322, 320.743, 56.378, 22.030],\n",
       "       [15.139, 67.425, 17.436, 68.207, 4.721, 284.740, 9.937, -46.520],\n",
       "       [29.138, 36.942, 33.920, 72.634, 1.063, 101.033, 22.650, -28.060],\n",
       "       [10.851, 82.247, 6.902, 74.663, 1.178, 381.360, 6.589, -56.360],\n",
       "       [38.500, 22.233, 39.267, 71.379, 4.897, 254.907, 35.134, -14.220],\n",
       "       [76.771, 6.938, 16.290, 78.637, 4.925, 476.714, 84.746, 45.940],\n",
       "       [41.613, 35.473, 22.914, 65.609, 3.328, 437.413, 32.428, -24.340],\n",
       "       [66.292, 29.484, 4.225, 63.290, 0.568, 306.514, 55.363, -5.060],\n",
       "       [11.384, 34.669, 53.947, 74.380, 2.941, 236.822, 11.269, -31.780],\n",
       "       [45.567, 15.200, 39.233, 74.887, 4.281, 278.229, 46.647, 3.820],\n",
       "       [9.327, 42.130, 48.542, 62.413, 1.987, 64.088, 6.192, -37.230],\n",
       "       [12.861, 16.522, 70.617, 67.341, 0.917, 239.219, 16.227, -23.980],\n",
       "       [5.000, 5.000, 90.000, 75.000, 0.100, 240.000, 14.422, -4.890],\n",
       "       [25.000, 5.000, 70.000, 75.000, 0.100, 240.000, 37.987, 5.990],\n",
       "       [39.452, 13.792, 46.756, 78.890, 3.260, 67.171, 50.826, 4.770],\n",
       "       [35.819, 10.306, 53.875, 69.788, 4.931, 126.998, 40.984, -2.370],\n",
       "       [35.000, 5.000, 60.000, 65.000, 0.500, 120.000, 51.914, 20.840],\n",
       "       [15.000, 5.000, 80.000, 70.000, 1.000, 150.000, 32.814, 3.790],\n",
       "       [45.000, 10.000, 45.000, 75.000, 1.500, 180.000, 51.216, 12.970],\n",
       "       [55.000, 10.000, 35.000, 80.000, 2.000, 210.000, 55.479, 22.620],\n",
       "       [65.000, 15.000, 20.000, 80.000, 0.500, 210.000, 71.878, 13.730],\n",
       "       [75.000, 15.000, 10.000, 75.000, 1.000, 180.000, 76.482, 18.900],\n",
       "       [85.000, 10.000, 5.000, 70.000, 1.500, 150.000, 83.595, 34.910],\n",
       "       [75.000, 10.000, 15.000, 65.000, 2.000, 120.000, 76.702, 31.430],\n",
       "       [5.817, 23.136, 76.047, 73.903, 0.197, 126.706, 5.338, -31.320],\n",
       "       [12.838, 12.391, 79.770, 61.932, 1.326, 451.485, 20.817, -16.070],\n",
       "       [10.654, 46.196, 48.149, 61.163, 4.991, 471.600, 7.275, -42.720],\n",
       "       [9.301, 24.523, 71.176, 62.442, 3.421, 393.957, 9.642, -36.250],\n",
       "       [5.625, 15.433, 83.943, 78.554, 2.304, 154.280, 7.831, -27.710],\n",
       "       [6.350, 35.918, 62.732, 66.293, 3.836, 321.844, 4.816, -39.840],\n",
       "       [5.944, 37.105, 61.951, 62.771, 4.046, 255.298, 4.167, -40.760],\n",
       "       [5.231, 36.260, 63.509, 62.400, 4.531, 226.067, 4.300, -39.650],\n",
       "       [5.004, 43.990, 56.007, 70.454, 2.550, 477.008, 3.332, -38.260],\n",
       "       [6.488, 34.532, 63.981, 67.737, 4.424, 433.396, 5.232, -38.930],\n",
       "       [5.831, 17.865, 81.304, 75.392, 1.155, 436.957, 8.331, -25.710],\n",
       "       [13.448, 5.446, 86.106, 74.741, 0.199, 316.823, 25.699, -1.940],\n",
       "       [56.428, 6.950, 41.622, 78.796, 1.589, 72.883, 61.872, 15.650],\n",
       "       [71.540, 5.153, 28.307, 76.742, 3.285, 118.962, 52.910, 25.910],\n",
       "       [75.428, 5.413, 24.159, 66.489, 2.242, 128.313, 63.847, 11.340],\n",
       "       [57.909, 6.362, 40.729, 76.661, 3.628, 148.736, 51.282, 24.820],\n",
       "       [78.471, 5.779, 20.751, 64.468, 1.029, 161.551, 66.280, 33.480],\n",
       "       [66.358, 8.369, 30.273, 64.026, 0.840, 221.016, 47.676, 24.580],\n",
       "       [26.248, 7.378, 71.374, 79.940, 4.395, 313.289, 32.760, -0.780],\n",
       "       [42.275, 9.141, 53.584, 60.371, 1.180, 458.141, 43.502, 11.340],\n",
       "       [8.159, 48.645, 48.196, 79.756, 0.728, 73.304, 9.614, -42.980],\n",
       "       [10.855, 14.827, 79.319, 78.095, 2.343, 461.632, 16.913, -16.860],\n",
       "       [33.147, 5.112, 66.742, 70.622, 0.091, 190.410, 41.819, -19.710],\n",
       "       [30.231, 6.350, 68.419, 61.598, 0.699, 406.768, 35.367, 6.220],\n",
       "       [48.137, 5.724, 46.139, 73.844, 3.322, 320.743, 59.791, 21.570],\n",
       "       [45.567, 15.200, 39.233, 74.887, 4.281, 278.229, 45.610, 2.850]])"
      ]
     },
     "execution_count": 2,
     "metadata": {},
     "output_type": "execute_result"
    }
   ],
   "source": [
    "training_data = loadtxt(f\"data_all.csv\", delimiter=',')\n",
    "training_data"
   ]
  },
  {
   "cell_type": "code",
   "execution_count": 27,
   "id": "07716b90",
   "metadata": {},
   "outputs": [],
   "source": [
    "from sklearn.metrics import r2_score, mean_squared_error"
   ]
  },
  {
   "cell_type": "code",
   "execution_count": 42,
   "id": "64f824fe",
   "metadata": {},
   "outputs": [],
   "source": [
    "####################\n",
    "# initialization\n",
    "\n",
    "n_var = 6\n",
    "n_obj = 2\n",
    "\n",
    "random_state = 42\n",
    "torch.manual_seed(random_state) # gives a consistent seed based on the trial number\n",
    "\n",
    "ref_point = torch.tensor([-50, 0], **tkwargs)\n",
    "hv=Hypervolume(ref_point=ref_point) # sets the hv based on problem, flip since BoTorch takes maximisation\n",
    "\n",
    "lower_bounds = torch.tensor([5.0, 5.0, 5.0, 60, 0.01, 60.0], **tkwargs) \n",
    "upper_bounds = torch.tensor([95.0, 95.0, 95.0, 80, 5.0, 480.0], **tkwargs)\n",
    "problem_bounds = torch.vstack([lower_bounds, upper_bounds])\n",
    "\n",
    "standard_bounds = torch.zeros(2, n_var, **tkwargs)\n",
    "standard_bounds[1] = 1\n",
    "\n",
    "BATCH_SIZE = 12\n",
    "BATCH_NUM = np.concatenate([np.repeat(1, 27), np.repeat(2, 12), np.repeat(3, 16), np.repeat(4, 20), np.repeat(5, 14)])\n",
    "batch_list = [26, 39, 55, 75, 89]"
   ]
  },
  {
   "cell_type": "code",
   "execution_count": 43,
   "id": "374e9f52",
   "metadata": {},
   "outputs": [
    {
     "name": "stderr",
     "output_type": "stream",
     "text": [
      "C:\\Users\\user\\anaconda3\\lib\\site-packages\\botorch\\models\\utils\\assorted.py:173: InputDataWarning: Input data is not contained to the unit cube. Please consider min-max scaling the input data.\n",
      "  warnings.warn(msg, InputDataWarning)\n",
      "C:\\Users\\user\\anaconda3\\lib\\site-packages\\botorch\\models\\utils\\assorted.py:173: InputDataWarning: Input data is not contained to the unit cube. Please consider min-max scaling the input data.\n",
      "  warnings.warn(msg, InputDataWarning)\n",
      "C:\\Users\\user\\anaconda3\\lib\\site-packages\\botorch\\models\\utils\\assorted.py:173: InputDataWarning: Input data is not contained to the unit cube. Please consider min-max scaling the input data.\n",
      "  warnings.warn(msg, InputDataWarning)\n",
      "C:\\Users\\user\\anaconda3\\lib\\site-packages\\botorch\\models\\utils\\assorted.py:173: InputDataWarning: Input data is not contained to the unit cube. Please consider min-max scaling the input data.\n",
      "  warnings.warn(msg, InputDataWarning)\n",
      "C:\\Users\\user\\anaconda3\\lib\\site-packages\\botorch\\models\\utils\\assorted.py:173: InputDataWarning: Input data is not contained to the unit cube. Please consider min-max scaling the input data.\n",
      "  warnings.warn(msg, InputDataWarning)\n"
     ]
    }
   ],
   "source": [
    "r2_list1, r2_list2 = [], []\n",
    "mse_list1, mse_list2 = [], []\n",
    "\n",
    "for finish in batch_list:\n",
    "    # set the tensor according to latest cumulative dataset\n",
    "    train_x = torch.tensor(training_data[:finish,:n_var], **tkwargs)\n",
    "    train_obj = torch.tensor(training_data[:finish,n_var:n_var+n_obj], **tkwargs)\n",
    "\n",
    "    # we need to do some scaling for the outputs\n",
    "    # output 1 for styrene% should be converted to negative to force minimization\n",
    "    # output 2 for TG needs to be scaled to ensure maximization\n",
    "    train_obj[:,0] = -train_obj[:,0]\n",
    "    output_lower = train_obj[:,1].min()\n",
    "    output_upper = train_obj[:,1].max()\n",
    "    output_bounds = torch.vstack([output_lower, output_upper])\n",
    "    train_obj[:,1] = normalize(train_obj[:,1], output_bounds)\n",
    "    \n",
    "    ####################\n",
    "    # surrogate model\n",
    "\n",
    "    train_x_gp = normalize(train_x, problem_bounds)\n",
    "\n",
    "    # form the output train_y data by concentenating train_obj with train_con \n",
    "    # this is necessary since the surrogate GpyTorch model needs to model BOTH obj and con for predicted candidates\n",
    "    #train_y = torch.cat([train_obj, train_con], dim=-1)\n",
    "    train_y = train_obj\n",
    "\n",
    "    # define and train surrogate models for objective and constraint\n",
    "    models = []\n",
    "    for i in range(train_y.shape[-1]):\n",
    "        models.append(SingleTaskGP(train_x_gp, train_y[..., i : i + 1], outcome_transform=Standardize(m=1)))\n",
    "    model1 = ModelListGP(*models)\n",
    "    mll1 = SumMarginalLogLikelihood(model1.likelihood, model1)\n",
    "\n",
    "    fit_gpytorch_model(mll1) \n",
    "\n",
    "    model1.eval()\n",
    "\n",
    "    with torch.no_grad():\n",
    "        y_true = train_y\n",
    "        posterior = model1.posterior(train_x_gp)  \n",
    "        y_pred = posterior.mean.squeeze()\n",
    "        lower, upper = posterior.mvn.confidence_region()\n",
    "        \n",
    "    \n",
    "    for i, r2list, mselist in zip([0,1],\n",
    "                                  [r2_list1,r2_list2],\n",
    "                                  [mse_list1, mse_list2]\n",
    "                           ):\n",
    "        \n",
    "        mid_score = r2_score(train_y[:,i].cpu().numpy(), y_pred[:,i].cpu().numpy())\n",
    "        r2list.append(mid_score)\n",
    "\n",
    "        mid_score = mean_squared_error(train_y[:,i].cpu().numpy(), y_pred[:,i].cpu().numpy())\n",
    "        mselist.append(mid_score)"
   ]
  },
  {
   "cell_type": "code",
   "execution_count": 44,
   "id": "0f9a884d",
   "metadata": {},
   "outputs": [
    {
     "data": {
      "image/png": "[encoded data removed]",
      "text/plain": [
       "<Figure size 720x288 with 2 Axes>"
      ]
     },
     "metadata": {
      "needs_background": "light"
     },
     "output_type": "display_data"
    },
    {
     "data": {
      "image/png": "[encoded data removed]",
      "text/plain": [
       "<Figure size 720x288 with 2 Axes>"
      ]
     },
     "metadata": {
      "needs_background": "light"
     },
     "output_type": "display_data"
    }
   ],
   "source": [
    "fig, ax = plt.subplots(ncols = 2, figsize = (10,4))\n",
    "\n",
    "for i, obj, r2list in zip([0,1], [\"y1\", 'y2'], [r2_list1, r2_list2]):\n",
    "\n",
    "        ax[i].plot([0,1,2,4,5], r2list, c='r',)\n",
    "\n",
    "        ax[i].set_title(obj)\n",
    "        ax[i].set_xlabel('True Value')\n",
    "\n",
    "ax[0].set_ylabel('R2 Value')\n",
    "fig.tight_layout()\n",
    "\n",
    "fig, ax = plt.subplots(ncols = 2, figsize = (10,4))\n",
    "\n",
    "for i, obj, mselist in zip([0,1], [\"y1\", 'y2'], [mse_list1, mse_list2]):\n",
    "\n",
    "        ax[i].plot([0,1,2,4,5], mselist, c='b',)\n",
    "\n",
    "        ax[i].set_title(obj)\n",
    "        ax[i].set_xlabel('True Value')\n",
    "\n",
    "ax[0].set_ylabel('MSE Value')\n",
    "fig.tight_layout()"
   ]
  },
  {
   "cell_type": "code",
   "execution_count": null,
   "id": "2a963b97",
   "metadata": {},
   "outputs": [],
   "source": []
  }
 ],
 "metadata": {
  "kernelspec": {
   "display_name": "Python 3 (ipykernel)",
   "language": "python",
   "name": "python3"
  },
  "language_info": {
   "codemirror_mode": {
    "name": "ipython",
    "version": 3
   },
   "file_extension": ".py",
   "mimetype": "text/x-python",
   "name": "python",
   "nbconvert_exporter": "python",
   "pygments_lexer": "ipython3",
   "version": "3.9.12"
  },
  "toc": {
   "base_numbering": 1,
   "nav_menu": {},
   "number_sections": false,
   "sideBar": true,
   "skip_h1_title": false,
   "title_cell": "Table of Contents",
   "title_sidebar": "Contents",
   "toc_cell": true,
   "toc_position": {},
   "toc_section_display": true,
   "toc_window_display": false
  },
  "varInspector": {
   "cols": {
    "lenName": 16,
    "lenType": 16,
    "lenVar": 40
   },
   "kernels_config": {
    "python": {
     "delete_cmd_postfix": "",
     "delete_cmd_prefix": "del ",
     "library": "var_list.py",
     "varRefreshCmd": "print(var_dic_list())"
    },
    "r": {
     "delete_cmd_postfix": ") ",
     "delete_cmd_prefix": "rm(",
     "library": "var_list.r",
     "varRefreshCmd": "cat(var_dic_list()) "
    }
   },
   "types_to_exclude": [
    "module",
    "function",
    "builtin_function_or_method",
    "instance",
    "_Feature"
   ],
   "window_display": false
  }
 },
 "nbformat": 4,
 "nbformat_minor": 5
}
